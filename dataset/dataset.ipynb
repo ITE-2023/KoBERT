{
  "nbformat": 4,
  "nbformat_minor": 0,
  "metadata": {
    "colab": {
      "provenance": [],
      "authorship_tag": "ABX9TyM/PtLm/SRmc4MosYHHHBXo"
    },
    "kernelspec": {
      "name": "python3",
      "display_name": "Python 3"
    },
    "language_info": {
      "name": "python"
    }
  },
  "cells": [
    {
      "cell_type": "code",
      "execution_count": 2,
      "metadata": {
        "colab": {
          "base_uri": "https://localhost:8080/"
        },
        "id": "UTu8iyhyMI--",
        "outputId": "32368f36-12d0-4afa-bcd7-b32745b1d4ec"
      },
      "outputs": [
        {
          "output_type": "stream",
          "name": "stdout",
          "text": [
            "Mounted at /content/drive\n"
          ]
        }
      ],
      "source": [
        "from google.colab import drive\n",
        "drive.mount('/content/drive')"
      ]
    },
    {
      "cell_type": "code",
      "source": [
        "import pandas as pd\n",
        "data1 = pd.read_excel('/content/drive/MyDrive/dataset/한국어_단발성_대화_데이터셋.xlsx')"
      ],
      "metadata": {
        "id": "zolj9wpiPYz_"
      },
      "execution_count": 3,
      "outputs": []
    },
    {
      "cell_type": "code",
      "source": [
        "len(data1)\n",
        "data1.sample(n=10)"
      ],
      "metadata": {
        "id": "g6E1589UQSzR"
      },
      "execution_count": null,
      "outputs": []
    },
    {
      "cell_type": "code",
      "source": [
        "# Sentence와 Emotion 2개의 열 선택\n",
        "data1 = data1.iloc[:, :2]"
      ],
      "metadata": {
        "id": "_t0mpffYhndy"
      },
      "execution_count": 8,
      "outputs": []
    },
    {
      "cell_type": "code",
      "source": [
        "#칼럼 이름 바꾸기\n",
        "data1.rename(columns={\"Sentence\" :\"문장\", \"Emotion\":\"감정\"}, inplace=True)"
      ],
      "metadata": {
        "id": "QNRwGczPiAIg"
      },
      "execution_count": 10,
      "outputs": []
    }
  ]
}